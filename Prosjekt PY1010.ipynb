{
 "cells": [
  {
   "cell_type": "markdown",
   "id": "87f1ca76-bbcc-49b3-aa20-0c9998bd7d89",
   "metadata": {},
   "source": [
    "# Prosjektoppgave med innlevering 11.april 2025\n",
    "\n",
    "#### Jeg har valgt å arbeide med den ferdigdefinerte oppgaven gitt av faglærerne \n",
    "\n",
    "\n",
    "\n"
   ]
  },
  {
   "cell_type": "markdown",
   "id": "600d5d39-efdb-45b6-91f0-80c3e8c9568f",
   "metadata": {
    "tags": []
   },
   "source": [
    "Del a)\n",
    "Skriv et program som leser inn filen ‘support_uke_24.xlsx’ og lagrer data fra kolonne 1\n",
    "i en array med variablenavn ‘u_dag’, dataen i kolonne 2 lagres i arrayen ‘kl_slett’, data i\n",
    "kolonne 3 lagres i arrayen ‘varighet’ og dataen i kolonne 4 lagres i arrayen ‘score’. "
   ]
  },
  {
   "cell_type": "code",
   "execution_count": 181,
   "id": "f91093f1-3a70-4d21-8898-a6f9411b1af2",
   "metadata": {
    "tags": []
   },
   "outputs": [
    {
     "name": "stdout",
     "output_type": "stream",
     "text": [
      " Ukedag   Kl_slett     Varighet   Score\n",
      " Mandag   08:04:16     00:07:12        \n",
      " Mandag   08:04:53     00:02:49     6.0\n",
      " Mandag   08:06:31     00:08:36        \n",
      " Mandag   08:11:21     00:04:34        \n",
      " Mandag   08:20:46     00:07:38        \n",
      " Mandag   08:22:03     00:02:56     8.0\n",
      " Mandag   08:22:14     00:09:46        \n",
      " Mandag   08:23:12     00:06:47        \n",
      " Mandag   08:25:16     00:05:45    10.0\n",
      " Mandag   08:35:58     00:11:17        \n",
      " Mandag   08:46:32     00:07:39        \n",
      " Mandag   08:49:46     00:03:27        \n",
      " Mandag   08:52:53     00:10:21        \n",
      " Mandag   08:58:06     00:10:35        \n",
      " Mandag   09:07:43     00:10:59        \n",
      " Mandag   09:11:23     00:06:43        \n",
      " Mandag   09:21:07     00:06:57     8.0\n",
      " Mandag   09:28:51     00:10:09        \n",
      " Mandag   09:33:10     00:07:08        \n",
      " Mandag   09:37:00     00:10:43        \n",
      " Mandag   09:49:43     00:01:57        \n",
      " Mandag   09:51:18     00:05:45        \n",
      " Mandag   10:04:05     00:04:01        \n",
      " Mandag   10:07:20     00:06:57     9.0\n",
      " Mandag   10:31:24     00:02:19        \n",
      " Mandag   10:41:45     00:01:03        \n",
      " Mandag   10:48:41     00:05:45        \n",
      " Mandag   10:54:56     00:05:45    10.0\n",
      " Mandag   11:20:40     00:05:47        \n",
      " Mandag   11:48:08     00:02:46    10.0\n",
      " Mandag   11:48:35     00:10:29        \n",
      " Mandag   12:13:22     00:02:43        \n",
      " Mandag   12:13:34     00:02:13        \n",
      " Mandag   12:27:38     00:11:03        \n",
      " Mandag   12:57:12     00:09:53        \n",
      " Mandag   13:08:23     00:05:45        \n",
      " Mandag   13:40:47     00:05:23        \n",
      " Mandag   13:41:19     00:02:43        \n",
      " Mandag   13:41:43     00:08:50     9.0\n",
      " Mandag   13:55:11     00:09:50    10.0\n",
      " Mandag   14:04:09     00:05:07        \n",
      " Mandag   14:08:08     00:03:31        \n",
      " Mandag   14:27:02     00:07:36        \n",
      " Mandag   14:32:57     00:05:07        \n",
      " Mandag   14:33:29     00:03:29        \n",
      " Mandag   15:03:21     00:02:56        \n",
      " Mandag   15:09:09     00:09:47     3.0\n",
      " Mandag   15:15:09     00:08:54     3.0\n",
      " Mandag   15:17:16     00:09:55        \n",
      " Mandag   15:20:06     00:03:02    10.0\n",
      " Mandag   15:28:18     00:04:27        \n",
      "Tirsdag   08:12:47     00:07:12        \n",
      "Tirsdag   08:16:18     00:02:27        \n",
      "Tirsdag   08:22:36     00:02:48        \n",
      "Tirsdag   08:23:12     00:08:59        \n",
      "Tirsdag   08:28:05     00:03:11        \n",
      "Tirsdag   08:28:34     00:05:43        \n",
      "Tirsdag   08:30:35     00:03:46        \n",
      "Tirsdag   08:38:59     00:09:41     9.0\n",
      "Tirsdag   08:39:50     00:00:59     9.0\n",
      "Tirsdag   08:57:44     00:06:31        \n",
      "Tirsdag   08:58:33     00:10:27        \n",
      "Tirsdag   08:59:21     00:03:48        \n",
      "Tirsdag   09:05:16     00:04:00        \n",
      "Tirsdag   09:12:47     00:04:40        \n",
      "Tirsdag   09:18:12     00:10:36        \n",
      "Tirsdag   09:22:29     00:09:47        \n",
      "Tirsdag   09:29:26     00:05:20        \n",
      "Tirsdag   09:30:46     00:09:45     9.0\n",
      "Tirsdag   09:33:53     00:10:36        \n",
      "Tirsdag   09:43:42     00:09:17    10.0\n",
      "Tirsdag   09:46:16     00:10:17        \n",
      "Tirsdag   09:54:26     00:04:16        \n",
      "Tirsdag   10:07:34     00:03:02        \n",
      "Tirsdag   10:17:12     00:08:37        \n",
      "Tirsdag   10:28:25     00:04:34    10.0\n",
      "Tirsdag   10:33:54     00:09:24        \n",
      "Tirsdag   11:02:25     00:07:50        \n",
      "Tirsdag   11:04:58     00:02:28        \n",
      "Tirsdag   11:11:42     00:10:57        \n",
      "Tirsdag   11:27:48     00:06:17        \n",
      "Tirsdag   11:31:51     00:02:41        \n",
      "Tirsdag   11:32:48     00:04:59        \n",
      "Tirsdag   11:59:12     00:10:29        \n",
      "Tirsdag   12:09:31     00:07:58        \n",
      "Tirsdag   12:29:42     00:10:48     5.0\n",
      "Tirsdag   12:45:59     00:03:20        \n",
      "Tirsdag   12:54:15     00:06:24        \n",
      "Tirsdag   13:07:22     00:06:43        \n",
      "Tirsdag   13:30:32     00:03:55        \n",
      "Tirsdag   13:56:31     00:06:24        \n",
      "Tirsdag   14:08:20     00:09:43    10.0\n",
      "Tirsdag   14:23:05     00:09:56        \n",
      "Tirsdag   14:40:50     00:03:33        \n",
      "Tirsdag   14:43:43     00:06:24        \n",
      " Onsdag   08:02:22     00:07:12        \n",
      " Onsdag   08:02:30     00:04:18        \n",
      " Onsdag   08:02:42     00:08:09        \n",
      " Onsdag   08:08:39     00:04:15    10.0\n",
      " Onsdag   08:17:43     00:11:23    10.0\n",
      " Onsdag   08:18:43     00:03:43        \n",
      " Onsdag   08:23:12     00:07:43        \n",
      " Onsdag   08:24:36     00:03:43        \n",
      " Onsdag   08:42:04     00:03:39        \n",
      " Onsdag   08:45:27     00:07:57        \n",
      " Onsdag   08:46:30     00:07:04        \n",
      " Onsdag   08:50:23     00:03:08        \n",
      " Onsdag   09:02:20     00:03:36        \n",
      " Onsdag   09:12:55     00:11:10     1.0\n",
      " Onsdag   09:20:56     00:03:57     9.0\n",
      " Onsdag   09:23:21     00:06:38        \n",
      " Onsdag   09:26:19     00:05:33        \n",
      " Onsdag   09:27:38     00:10:35     1.0\n",
      " Onsdag   09:27:55     00:02:39        \n",
      " Onsdag   09:27:57     00:08:55    10.0\n",
      " Onsdag   09:34:15     00:03:10        \n",
      " Onsdag   10:03:02     00:05:25        \n",
      " Onsdag   10:45:22     00:07:18        \n",
      " Onsdag   10:51:20     00:03:24     5.0\n",
      " Onsdag   11:01:22     00:10:08        \n",
      " Onsdag   11:07:34     00:03:56        \n",
      " Onsdag   11:15:15     00:09:13        \n",
      " Onsdag   11:16:17     00:07:21        \n",
      " Onsdag   11:16:35     00:04:09        \n",
      " Onsdag   11:24:56     00:08:47        \n",
      " Onsdag   11:46:36     00:10:28        \n",
      " Onsdag   12:34:11     00:06:14        \n",
      " Onsdag   12:49:29     00:08:47     7.0\n",
      " Onsdag   12:50:15     00:10:47        \n",
      " Onsdag   12:59:53     00:07:06     9.0\n",
      " Onsdag   13:11:40     00:11:18        \n",
      " Onsdag   13:41:50     00:09:23        \n",
      " Onsdag   13:57:56     00:08:48        \n",
      " Onsdag   13:58:36     00:07:07        \n",
      " Onsdag   14:04:27     00:07:06        \n",
      " Onsdag   14:36:10     00:07:32        \n",
      " Onsdag   14:38:25     00:09:23        \n",
      " Onsdag   15:03:20     00:10:09        \n",
      " Onsdag   15:32:17     00:07:06        \n",
      " Onsdag   15:38:03     00:09:18        \n",
      "Torsdag   08:00:49     00:07:12        \n",
      "Torsdag   08:01:11     00:07:13    10.0\n",
      "Torsdag   08:03:42     00:07:12        \n",
      "Torsdag   08:12:05     00:02:12    10.0\n",
      "Torsdag   08:23:12     00:10:15    10.0\n",
      "Torsdag   08:23:24     00:06:04        \n",
      "Torsdag   08:48:12     00:06:06        \n",
      "Torsdag   08:54:37     00:10:52        \n",
      "Torsdag   09:09:38     00:07:02        \n",
      "Torsdag   09:15:00     00:05:59        \n",
      "Torsdag   09:21:55     00:10:27        \n",
      "Torsdag   09:26:08     00:06:24        \n",
      "Torsdag   09:34:25     00:10:06     9.0\n",
      "Torsdag   09:37:38     00:07:56     2.0\n",
      "Torsdag   09:56:18     00:09:35     9.0\n",
      "Torsdag   09:57:33     00:07:28        \n",
      "Torsdag   10:05:24     00:07:35        \n",
      "Torsdag   10:09:11     00:05:05        \n",
      "Torsdag   10:11:11     00:06:00        \n",
      "Torsdag   10:43:34     00:10:41        \n",
      "Torsdag   11:49:44     00:01:58        \n",
      "Torsdag   12:06:00     00:06:49    10.0\n",
      "Torsdag   12:14:30     00:07:26        \n",
      "Torsdag   12:16:34     00:10:56    10.0\n",
      "Torsdag   12:27:40     00:03:47        \n",
      "Torsdag   13:00:19     00:03:41        \n",
      "Torsdag   13:08:05     00:10:34        \n",
      "Torsdag   13:20:07     00:08:11        \n",
      "Torsdag   13:21:40     00:03:47        \n",
      "Torsdag   13:21:45     00:02:11        \n",
      "Torsdag   13:27:56     00:08:17     5.0\n",
      "Torsdag   13:50:35     00:08:27        \n",
      "Torsdag   14:07:58     00:10:54        \n",
      "Torsdag   14:11:24     00:08:27        \n",
      "Torsdag   15:07:12     00:03:03        \n",
      " Fredag   08:01:26     00:07:12        \n",
      " Fredag   08:07:14     00:02:49        \n",
      " Fredag   08:23:12     00:02:47        \n",
      " Fredag   08:31:57     00:03:04        \n",
      " Fredag   08:32:25     00:08:27        \n",
      " Fredag   08:47:24     00:01:51        \n",
      " Fredag   08:51:55     00:08:27     7.0\n",
      " Fredag   09:00:02     00:08:31     7.0\n",
      " Fredag   09:00:36     00:01:16        \n",
      " Fredag   09:01:14     00:07:08        \n",
      " Fredag   09:27:43     00:08:02        \n",
      " Fredag   09:31:37     00:01:16        \n",
      " Fredag   09:35:07     00:03:19        \n",
      " Fredag   09:41:40     00:06:36        \n",
      " Fredag   09:48:35     00:03:32        \n",
      " Fredag   09:54:26     00:03:19        \n",
      " Fredag   09:58:01     00:04:44        \n",
      " Fredag   10:16:01     00:11:28        \n",
      " Fredag   10:16:39     00:04:36        \n",
      " Fredag   11:00:40     00:02:33    10.0\n",
      " Fredag   11:31:55     00:05:52        \n",
      " Fredag   11:43:34     00:11:09        \n",
      " Fredag   12:13:08     00:06:04        \n",
      " Fredag   12:13:27     00:08:28        \n",
      " Fredag   12:22:11     00:05:13        \n",
      " Fredag   12:42:41     00:10:26        \n",
      " Fredag   12:49:07     00:07:23        \n",
      " Fredag   12:49:47     00:06:02        \n",
      " Fredag   13:06:17     00:09:37        \n",
      " Fredag   13:17:51     00:08:39        \n",
      " Fredag   13:29:54     00:09:03        \n",
      " Fredag   13:49:12     00:03:05        \n",
      " Fredag   14:06:37     00:02:04        \n",
      " Fredag   14:09:57     00:08:44     1.0\n",
      " Fredag   14:15:43     00:02:34     9.0\n",
      " Fredag   14:24:21     00:05:06        \n",
      " Fredag   14:31:06     00:02:32        \n",
      " Fredag   15:06:52     00:11:12        \n",
      " Fredag   15:25:32     00:10:21        \n",
      " Fredag   15:30:39     00:07:16        \n",
      " Fredag   15:39:11     00:08:49        \n",
      " Fredag   15:56:10     00:10:13    10.0\n"
     ]
    }
   ],
   "source": [
    "import pandas as pd\n",
    "\n",
    "# Laster inn data fra CSV-filen med semikolon som delimiter\n",
    "data = pd.read_csv(\"support_uke_24.csv\", delimiter=';', skiprows=1, names=[\"Ukedag\", \"  Kl_slett\", \"    Varighet\", \"  Score\"])\n",
    "\n",
    "# Erstatter NaN-verdier med tomme strenger\n",
    "data = data.fillna('')\n",
    "\n",
    "# Skriver ut dataene uten indeks\n",
    "print(data.to_string(index=False))\n",
    "\n"
   ]
  },
  {
   "cell_type": "markdown",
   "id": "7e4e4504-a616-4ec3-ac7a-56b171810fbd",
   "metadata": {
    "tags": []
   },
   "source": [
    "Del b) Skriv et program som finner antall henvendelser for hver de 5 ukedagene. Resultatet\n",
    "visualiseres ved bruk av et søylediagram (stolpediagram)"
   ]
  },
  {
   "cell_type": "code",
   "execution_count": 141,
   "id": "f164cf26-6180-4638-bfd9-1512806462e8",
   "metadata": {
    "tags": []
   },
   "outputs": [
    {
     "name": "stdout",
     "output_type": "stream",
     "text": [
      "Antall samtaler på mandag: 51\n",
      "Antall samtaler på tirsdag: 44\n",
      "Antall samtaler på onsdag: 45\n",
      "Antall samtaler på torsdag: 35\n",
      "Antall samtaler på fredag: 42\n"
     ]
    }
   ],
   "source": [
    "import pandas as pd\n",
    "\n",
    "# Laster inn data fra CSV-filen med semikolon som delimiter\n",
    "data = pd.read_csv(\"support_uke_24.csv\", delimiter=';', skiprows=1, names=[\"Ukedag\", \"Kl_slett\", \"Varighet\", \"Score\"])\n",
    "\n",
    "# Erstatter NaN-verdier med tomme strenger og deretter med \"0\"\n",
    "data = data.fillna(\"\").replace(\"\", \"0\")\n",
    "\n",
    "# Fjerner eventuelle mellomrom\n",
    "data[\"Ukedag\"] = data[\"Ukedag\"].str.strip().str.lower()  # Sikrer små bokstaver for sammenlignbarhet\n",
    "\n",
    "# Definerer riktig rekkefølge for ukedagene\n",
    "ukedager_rekkefølge = [\"mandag\", \"tirsdag\", \"onsdag\", \"torsdag\", \"fredag\"]\n",
    "\n",
    "# Gjør 'Ukedag' til en kategorisk kolonne med ønsket rekkefølge\n",
    "data[\"Ukedag\"] = pd.Categorical(data[\"Ukedag\"], categories=ukedager_rekkefølge, ordered=True)\n",
    "\n",
    "# Grupperer og teller antall samtaler\n",
    "antall_samtaler_per_dag = data.groupby(\"Ukedag\").size().sort_index()\n",
    "\n",
    "# Skriver ut antall samtaler per dag i riktig rekkefølge\n",
    "for dag, antall in antall_samtaler_per_dag.items():\n",
    "    print(f\"Antall samtaler på {dag}: {antall}\")\n"
   ]
  },
  {
   "cell_type": "code",
   "execution_count": 142,
   "id": "08cdf94a-a6f0-461e-82b6-f5c983fab8cd",
   "metadata": {
    "tags": []
   },
   "outputs": [
    {
     "name": "stdout",
     "output_type": "stream",
     "text": [
      "Antall samtaler på mandag: 51\n",
      "Antall samtaler på tirsdag: 44\n",
      "Antall samtaler på onsdag: 45\n",
      "Antall samtaler på torsdag: 35\n",
      "Antall samtaler på fredag: 42\n"
     ]
    },
    {
     "data": {
      "image/png": "[encoded data removed]",
      "text/plain": [
       "<Figure size 800x550 with 1 Axes>"
      ]
     },
     "metadata": {},
     "output_type": "display_data"
    }
   ],
   "source": [
    "import pandas as pd\n",
    "\n",
    "# Laster inn data fra CSV-filen med semikolon som delimiter\n",
    "data = pd.read_csv(\"support_uke_24.csv\", delimiter=';', skiprows=1, names=[\"Ukedag\", \"Kl_slett\", \"Varighet\", \"Score\"])\n",
    "\n",
    "# Erstatter NaN-verdier med tomme strenger og deretter med \"0\"\n",
    "data = data.fillna(\"\").replace(\"\", \"0\")\n",
    "\n",
    "# Fjerner eventuelle mellomrom\n",
    "data[\"Ukedag\"] = data[\"Ukedag\"].str.strip().str.lower()  # Sikrer små bokstaver for sammenlignbarhet\n",
    "\n",
    "# Definerer riktig rekkefølge for ukedagene\n",
    "ukedager_rekkefølge = [\"mandag\", \"tirsdag\", \"onsdag\", \"torsdag\", \"fredag\"]\n",
    "\n",
    "# Gjør 'Ukedag' til en kategorisk kolonne med ønsket rekkefølge\n",
    "data[\"Ukedag\"] = pd.Categorical(data[\"Ukedag\"], categories=ukedager_rekkefølge, ordered=True)\n",
    "\n",
    "# Grupperer og teller antall samtaler\n",
    "antall_samtaler_per_dag = data.groupby(\"Ukedag\").size().sort_index()\n",
    "\n",
    "# Skriver ut antall samtaler per dag i riktig rekkefølge\n",
    "for dag, antall in antall_samtaler_per_dag.items():\n",
    "    print(f\"Antall samtaler på {dag}: {antall}\")\n",
    "\n",
    "\n",
    "#Plotter antall samtaler per dag:\n",
    "antall_samtaler_per_dag.plot(kind=\"bar\", color=\"darkseagreen\")\n",
    "\n",
    "plt.xlabel(\"Ukedager\", color=\"teal\")\n",
    "plt.ylabel(\"Antall samtaler\", color=\"teal\")\n",
    "plt.title(\"Antall samtaler per dag\")\n",
    "plt.xticks(rotation=45)\n",
    "plt.show()"
   ]
  },
  {
   "cell_type": "markdown",
   "id": "e60a1d28-22ff-4dbc-99d8-2569dba62678",
   "metadata": {},
   "source": [
    "Del c) Skriv et program som finner minste og lengste samtaletid som er loggført for uke 24.\n",
    "Svaret skrives til skjerm med informativ tekst"
   ]
  },
  {
   "cell_type": "code",
   "execution_count": null,
   "id": "4b2dda91-3e75-471e-a12a-99e7d3ee8e4b",
   "metadata": {
    "tags": []
   },
   "outputs": [],
   "source": [
    "import pandas as pd\n",
    "import numpy as np\n",
    "import matplotlib.pyplot as plt\n",
    "\n",
    "# Funksjon for å konvertere tid fra \"hh:mm:ss\" til minutter\n",
    "def time_to_minutes(time_str):\n",
    "    h, m, s = map(int, time_str.split(\":\"))\n",
    "    return h * 60 + m + s / 60\n",
    "\n",
    "# Laster inn data fra CSV-filen med semikolon som delimiter\n",
    "data = pd.read_csv(\"support_uke_24.csv\", delimiter=';', skiprows=1, names=[\"Ukedag\", \"Kl_slett\", \"Varighet\", \"Score\"])\n",
    "\n",
    "# Erstatter NaN-verdier og tomme strenger med 0\n",
    "data = data.fillna(\"\").replace(\"\", \"0\")\n",
    "\n",
    "# Ekstraherer kolonnene som numpy arrays\n",
    "Ukedag = data[\"Ukedag\"].values\n",
    "Kl_slett = data[\"Kl_slett\"].values\n",
    "Varighet = data[\"Varighet\"].apply(time_to_minutes).values  # Konverterer til minutter og deretter til numpy array\n",
    "Score = data[\"Score\"].astype(float).values  # Konverterer til float og deretter til numpy array\n",
    "\n",
    "# Beregner gjennomsnittlig samtaletid\n",
    "Lengste_samtale = np.max(Varighet)\n",
    "Korteste_samtale = np.min(Varighet)\n",
    "Sum_samtaler = np.sum(Varighet)\n",
    "\n",
    "print(f\"Summen av alle samtaler er: {Sum_samtaler/60:.2f} timer\")\n",
    "print(f\" Den korteste samtalen var på:  {Korteste_samtale:.2f} minutter\")\n",
    "print(f\" Den lengste samtalen var på:  {Lengste_samtale:.2f} minutter\")"
   ]
  },
  {
   "cell_type": "markdown",
   "id": "e804700f-6125-4f20-bce4-ce22b06d65d1",
   "metadata": {},
   "source": [
    "Del d) Skriv et program som regner ut gjennomsnittlig samtaletid basert på alle\n",
    "henvendelser i uke 24"
   ]
  },
  {
   "cell_type": "code",
   "execution_count": 183,
   "id": "17a18b85-565b-4f1b-9b8e-a2835d99cedb",
   "metadata": {
    "tags": []
   },
   "outputs": [
    {
     "name": "stdout",
     "output_type": "stream",
     "text": [
      "Gjennomsnittlig samtaletid er: 6.67 minutter\n"
     ]
    }
   ],
   "source": [
    "import pandas as pd\n",
    "import numpy as np\n",
    "import matplotlib.pyplot as plt\n",
    "\n",
    "# Funksjon for å konvertere tid fra \"hh:mm:ss\" til minutter\n",
    "def time_to_minutes(time_str):\n",
    "    h, m, s = map(int, time_str.split(':'))\n",
    "    return h * 60 + m + s / 60\n",
    "\n",
    "# Laster inn data fra CSV-filen med semikolon som delimiter\n",
    "data = pd.read_csv(\"support_uke_24.csv\", delimiter=';', skiprows=1, names=[\"Ukedag\", \"Kl_slett\", \"Varighet\", \"Score\"])\n",
    "\n",
    "# Erstatter NaN-verdier og tomme strenger med 0\n",
    "data = data.fillna(\"\").replace(\"\", \"0\")\n",
    "\n",
    "# Ekstraherer kolonnene som numpy arrays\n",
    "Ukedag = data[\"Ukedag\"].values\n",
    "Kl_slett = data[\"Kl_slett\"].values\n",
    "Varighet = data[\"Varighet\"].apply(time_to_minutes).values  # Konverterer til minutter og deretter til numpy array\n",
    "Score = data[\"Score\"].astype(float).values  # Konverterer til float og deretter til numpy array\n",
    "\n",
    "# Beregner gjennomsnittlig samtaletid\n",
    "Gj_samtale_tid = np.mean(Varighet)\n",
    "print(f\"Gjennomsnittlig samtaletid er: {Gj_samtale_tid:.2f} minutter\")\n",
    "\n",
    "\n"
   ]
  },
  {
   "cell_type": "markdown",
   "id": "933cbdb8-1770-4658-821a-d5152db85d35",
   "metadata": {},
   "source": [
    "Del e) Skriv et program som finner det totale antall henvendelser supportavdelingen mottok\n",
    "for hver av tidsrommene 08-10, 10-12, 12-14 og 14-16 for uke 24. Resultatet visualiseres ved\n",
    "bruk av et sektordiagram (kakediagram).\n",
    "\n"
   ]
  },
  {
   "cell_type": "code",
   "execution_count": 184,
   "id": "03516aed-99b4-4365-aaad-4c0de2fbf8e0",
   "metadata": {
    "tags": []
   },
   "outputs": [
    {
     "data": {
      "image/png": "[encoded data removed]",
      "text/plain": [
       "<Figure size 600x600 with 1 Axes>"
      ]
     },
     "metadata": {},
     "output_type": "display_data"
    }
   ],
   "source": [
    "import pandas as pd\n",
    "import matplotlib.pyplot as plt\n",
    "\n",
    "# Laster inn CSV-data\n",
    "data = pd.read_csv(\"support_uke_24.csv\", delimiter=';', skiprows=1, names=[\"Ukedag\", \"Kl_slett\", \"Varighet\", \"Score\"])\n",
    "\n",
    "# Fjerner NaN\n",
    "data = data.fillna(\"\")\n",
    "\n",
    "# Stripper mellomrom\n",
    "data[\"Kl_slett\"] = data[\"Kl_slett\"].str.strip()\n",
    "\n",
    "# Trekker ut klokkeslett (forutsetter at det er HH:MM-format først i tekst)\n",
    "data[\"Tid\"] = data[\"Kl_slett\"].str.extract(r\"(\\d{2}:\\d{2})\")\n",
    "\n",
    "# Dropper rader uten gyldig tid\n",
    "data = data.dropna(subset=[\"Tid\"])\n",
    "\n",
    "# Konverterer til klokkeslett\n",
    "data[\"Tid\"] = pd.to_datetime(data[\"Tid\"], format=\"%H:%M\").dt.time\n",
    "\n",
    "# Kategoriserer tiden i grupper:\n",
    "def kategoriser_tid(tid):\n",
    "    if tid >= pd.to_datetime(\"08:00\", format=\"%H:%M\").time() and tid < pd.to_datetime(\"10:00\", format=\"%H:%M\").time():\n",
    "        return \"08 - 10\"\n",
    "    elif tid >= pd.to_datetime(\"10:00\", format=\"%H:%M\").time() and tid < pd.to_datetime(\"12:00\", format=\"%H:%M\").time():\n",
    "        return \"10 - 12\"\n",
    "    elif tid >= pd.to_datetime(\"12:00\", format=\"%H:%M\").time() and tid < pd.to_datetime(\"14:00\", format=\"%H:%M\").time():\n",
    "        return \"12 - 14\"\n",
    "    elif tid >= pd.to_datetime(\"14:00\", format=\"%H:%M\").time() and tid < pd.to_datetime(\"16:00\", format=\"%H:%M\").time(): \n",
    "        return \"14 - 16\"\n",
    "    else:\n",
    "        return \"Utenfor åpningstid\"\n",
    "\n",
    "# Legger til kategorier\n",
    "data[\"Tid_kategori\"] = data[\"Tid\"].apply(kategoriser_tid)\n",
    "\n",
    "# Sorterer rekkefølge\n",
    "rekkefølge = [\"08 - 10\", \"10 - 12\", \"12 - 14\", \"14 - 16\", \"Utenfor åpningstid\"]\n",
    "data[\"Tid_kategori\"] = pd.Categorical(data[\"Tid_kategori\"], categories=rekkefølge, ordered=True)\n",
    "\n",
    "# Teller og plotter\n",
    "teller = data[\"Tid_kategori\"].value_counts().sort_index()\n",
    "\n",
    "plt.figure(figsize=(6, 6))\n",
    "plt.pie(teller, labels=teller.index, autopct=\"%1.1f%%\", startangle=90)\n",
    "plt.title(\"Samtaletidspunkt\")\n",
    "plt.tight_layout()\n",
    "plt.show()\n"
   ]
  },
  {
   "cell_type": "markdown",
   "id": "24e2f3af-b702-4be9-a794-1ed191fd8c82",
   "metadata": {
    "tags": []
   },
   "source": [
    "Del f)Lag et program som regner ut supportavdelings NPS og skriver svaret til skjerm. Merk:\n",
    "Kunder som ikke har gitt tilbakemelding på tilfredshet, skal utelates fra utregningene.\n",
    "\n"
   ]
  },
  {
   "cell_type": "markdown",
   "id": "b3ab2340-eb1d-47a6-ac78-1c6f201bd47a",
   "metadata": {},
   "source": [
    "Denne koden tar hensyn til at kun svar mellom 1 og 10 skal regnes med. Dermed vil den gi et mer nøyaktig NPS-resultat for supportavdelingen."
   ]
  },
  {
   "cell_type": "code",
   "execution_count": 194,
   "id": "272a974d-75f7-4ea1-a583-2035e5471afa",
   "metadata": {
    "tags": []
   },
   "outputs": [
    {
     "name": "stdout",
     "output_type": "stream",
     "text": [
      "Supportavdelingens NPS er: 8.29\n"
     ]
    }
   ],
   "source": [
    "import pandas as pd\n",
    "\n",
    "# Last inn data fra CSV-filen med semikolon som delimiter\n",
    "data = pd.read_csv(\"support_uke_24.csv\", delimiter=';', skiprows=1,\n",
    "                   names=[\"Ukedag\", \"Kl_slett\", \"Varighet\", \"Score\"])\n",
    "\n",
    "# Rydd opp i \"Score\"-kolonnen: konverter til streng og fjern mellomrom\n",
    "data[\"Score\"] = data[\"Score\"].astype(str).str.strip()\n",
    "\n",
    "# Fjern rader der \"Score\" er tom eller lik \"0\"\n",
    "data = data[(data[\"Score\"] != \"\") & (data[\"Score\"] != \"0\")]\n",
    "\n",
    "# Konverter \"Score\" til flyttall for videre beregning\n",
    "data[\"Score\"] = data[\"Score\"].astype(float)\n",
    "\n",
    "# Beregn antall promotors (score 9-10) og detractors (score 1-6)\n",
    "promotors = len(data[data[\"Score\"] >= 9])\n",
    "detractors = len(data[data[\"Score\"] <= 6])\n",
    "total_responses = len(data)\n",
    "\n",
    "# Beregn NPS: prosentandel promotors minus prosentandel detractors\n",
    "nps = ((promotors - detractors) / total_responses) * 100\n",
    "\n",
    "print(f\"Supportavdelingens NPS er: {nps:.2f}\")\n"
   ]
  },
  {
   "cell_type": "code",
   "execution_count": null,
   "id": "797e0271-0dbb-450d-b5bc-79ff0d06a659",
   "metadata": {},
   "outputs": [],
   "source": []
  }
 ],
 "metadata": {
  "kernelspec": {
   "display_name": "Python 3 (ipykernel)",
   "language": "python",
   "name": "python3"
  },
  "language_info": {
   "codemirror_mode": {
    "name": "ipython",
    "version": 3
   },
   "file_extension": ".py",
   "mimetype": "text/x-python",
   "name": "python",
   "nbconvert_exporter": "python",
   "pygments_lexer": "ipython3",
   "version": "3.11.5"
  }
 },
 "nbformat": 4,
 "nbformat_minor": 5
}
